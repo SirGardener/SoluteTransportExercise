{
 "cells": [
  {
   "cell_type": "code",
   "execution_count": null,
   "metadata": {},
   "outputs": [],
   "source": []
  },
  {
   "cell_type": "markdown",
   "metadata": {},
   "source": [
    "# Introduction\n",
    "This jupyter notebook gives a brief introduction to groundwater and solute transport modelling with MODFLOW2005 using Visual Studio Code. Visual Studio Code is an open-source integrated development environment (IDE). IDEs are used to develop, run and test software and scripts in various programming languages. This provides an alternative approach to the execution of python scripts in a terminal. \n",
    "\n",
    "**0. Install Python**: To use python, it must be installed on your system. To install it you can download the python installer for version 3.12.4 at: https://www.python.org/ftp/python/3.12.4/python-3.12.4-amd64.exe. If you have arm processors, you need this one: https://www.python.org/ftp/python/3.12.4/python-3.12.4-arm64.exe. Open the installer and make sure to check the add to path option. This is necessary for the system to locate your python executable. For instance, if you type \"python --version\" in the terminal, you will get an error message, otherwise. As an alternative to double-clicking the installer, you can change the directory using cd in the terminal (opened by searching for cmd):\n",
    "\n",
    "<code>cd C:Users\\<YourUsername>\\Downloads\n",
    "python-3.12.4-amd64.exe\n",
    "</code>\n",
    "\n",
    "Afterwards, you can verify that you have pip, the python package manager installed by typing in the terminal:\n",
    "\n",
    "<code>\n",
    "pip --version\n",
    "</code>\n",
    "\n",
    "The terminal should yield an output similar to this: \"pip 24.0 from C:\\Users\\cgaertner\\AppData\\Local\\Programs\\Python\\Python312\\Lib\\site-packages\\pip (python 3.12)\"\n",
    "\n",
    "**1. Install VSCode**: VS Code can be installed on Windows 10 and 11 via Microsoft Store. The Microsoft Store can be found in the windows search bar. Make sure to pick the blue version (not the purple one). In VSCode, you can find the extensions on the left side bar. Search for python and Jupyter and install both extensions. This document is a jupyter notebook (.ipynb). Jupyter notebooks provide a convenient means to combine code cells and so called markdown cells for descriptive purposes and are often used for educational purposes. Each code cell can be run individually allowing for a separate inspection of intermediary code results. Make sure to restart VS Code once you have installed the extensions.\n",
    "\n",
    "**2. Create and activate a virtual environment (.venv)**: There are two ways to use pyton interpreters. The first one is to use the global interpreter that you just installed on your system via the comand line interface (cmd). You can then install python packages globally by running \"\" pip install <package-name>. However, often this is not a good practise. Dependencies are the packages used by a script or programm. Because of compatibility issues, often certain programm versions depend on each other, e. g. package A relying on package B to be given at below or above a specified version. Moreover, the creation of virtual environments allows to clearly separate the distinct dependencies and versions required by your code. More\n",
    "\n",
    "First, you need to create a folder that will contain your virtual environment. Create a projects folder under the .vscode directory (C:\\Users\\<YourUsername>\\.vscode\\Projects). In the projects folder create a new folder called <SoluteTransportExercise>. To create a virtual environment, click on \"Terminal\" in VS Code in the top bar and open a new terminal. Change to the directory where you want to create the venv, i. e. type:\n",
    "\n",
    "<code>\n",
    "cd C:\\Users\\<YourUserName>\\.vscode\\Projects\\SoluteTransportExercise.\n",
    "</code>\n",
    "\n",
    "If you are already in the Projects directory you can just type \"\" cd SoluteTransportExercise to navigate to the target folder. Then type: \n",
    "\n",
    "<code>\n",
    "python -m venv .venv\n",
    "</code>\n",
    "\n",
    "Now you are informed by VS Code that a new venv folder has been created successfully. Confirm the question if you want to add it to your workspace folder.\n",
    "You should now see a .venv folder being created in the SoluteTranpsortExercise folder. You can see the folders by clicking on the explorer icon in the topmost left sidebar of VS Code. The next step is to activate the virtual environment. In your venv folder, three is a Scripts folder containing a script called <activate>. To activate the environment, type the following command in the script: \n",
    "\n",
    "<code>\n",
    "C:\\Users\\<YourUsername>\\.vscode\\Projects\\SoluteTransportExercise\\.venv\\Scripts\\activate \n",
    "C:\\Users\\cgaertner\\.vscode\\Projects\\SoluteTransportExercise\\.venv\\Scripts\\activate \n",
    "</code>\n",
    "\n",
    "You should see a (.venv) at the left side of the terminal, indicating that the virtual environment has been successfully activated. Now you can install packages into the environment using pip. Packages installed with pip will typically be stored in your venv folder in the Lib\\site-packages folder. If your activation was not successfull, e. g. because of execution policies, type the following commands in the terminal and retry the activation process: \n",
    "\n",
    "<code>\n",
    "Get-ExecutionPolicy\n",
    "Set-ExecutionPolicy RemoteSigned -Scope CurrentUser\n",
    "C:\\Users\\<YourUsername>\\.vscode\\Projects\\SoluteTransportExercise\\.venv\\Scripts\\activate \n",
    "</code>\n",
    "\n",
    "**3. Install the required packages**: Open a terminal in your virtual environment and run:\n",
    "\n",
    "<code>\n",
    "pip install flopy numpy matplotlib\n",
    "</code>\n",
    "\n",
    "From the terminal output you will recognize that all other dependencies of these listed packages are installed automatically under the hood.\n"
   ]
  },
  {
   "cell_type": "markdown",
   "metadata": {},
   "source": [
    "\n",
    "## Moflow and FloPy\n",
    "MODFLOW is the U.S. Geological Survey modular finite-difference flow model, which is a hydrogeological code that has been used to solve the groundwater flow equation and related problems since 1988. Modflow is considered as international state-of-the-art for simulating and predicting groundwater flow and interactions between the groundwater and surface water. It is characterised by its modular structure, meaning that packages for e. g. initial conditions, wells, boundary conditions, recharge, discretization and layer or node flow properties have to be added separately. More detailed information can be found under https://www.usgs.gov/mission-areas/water-resources/science/modflow-and-related-programs. \n",
    "\n",
    "The first part of this jupyter notebook deals with setting up the groundwater flow model to calculate the flow field (i. e. the hydraulic heads and the resulting groundwater flow velocities in each cell). On the basis of the simulated flow field, solute transport is calculated assuming a decoupling between groundwater flow and contaminant spread. This decoupling implies that changes in the flow field due to concentration changes are marginal and do not affect the fluid density. To simulate the contaminant transport, the MT3DMS (Modular Transport, 3-Dimensional, Multi-Species model) transport code is utilized. Note that the latest version of Modflow (MODFLOW 6) does not support for MT3DMS yet. On the other hand, the local grid refinement utility which may be used to locally increase the spatial discretization around wells exhibiting increased hydrualic gradients by nature is currently only available for Modflow 6.\n",
    "\n",
    "FloPy is a python package that allows to create, run and automate MODLFOW Models and modelling workflows by using python scripts. The documentation can be found here: https://flopy.readthedocs.io/en/latest/introduction.html. Flopy can be intalled with pip:\n",
    "\n",
    "<code>\n",
    "pip install flopy numpy matplotlib\n",
    "</code>\n",
    "\n",
    "The next step is to get the executables (.exe) of the MODFLOW and MT3DMS code. FloPy includes a get-modflow utility to install USGS MODFLOW and related programs for Windows, Mac or Linux. If FloPy is installed, the utility is available in the Python environment as a get-modflow command. The script flopy/utils/get_modflow.py has no dependencies and can be invoked independently. Open a terminal and type the absolute path of the script followed by the absolute path of the Scripts directory of your venv as the \"bindir\" command line argument. Since the scripts folder is already in the path environment variable, it is suitable to located the executables here. Note: Once a binary (an executable) is in the path, you do not need to specify the full path but only the filename to run it.\n",
    "\n",
    "<code>\n",
    "C:\\Users\\<YourUsername>\\.vscode\\Projects\\SoluteTransportExercise\\.venv\\Scripts\\get-modflow.exe C:\\Users\\<YourUsername>\\.vscode\\Projects\\SoluteTransportExercise\\.venv\\Scripts\n",
    "C:\\Users\\cgaertner\\.vscode\\Projects\\SoluteTransportExercise\\.venv\\Scripts\\get-modflow.exe C:\\Users\\cgaertner\\.vscode\\Projects\\SoluteTransportExercise\\.venv\\Scripts\n",
    "</code>\n"
   ]
  },
  {
   "cell_type": "markdown",
   "metadata": {},
   "source": [
    "## Conventions\n",
    "For the numbering of rows, columns and layers (i, j, k) of the discretization grid, it is important to mention that numbers start at zero in python. Water flowing into the model is considered positive, water leaving the domain counts negative. By default all boundaries in MODFLOW are no-flow boundaries, so you have to specify the boundary conditions explicitly cell- or nodewise.\n",
    "\n",
    "## Model Description\n",
    "The model comprises a layered system of horizontal aquifers with an areal extent of 5 x 5 km². Its right boundary is formed by a river that can be represented by a Dirichlet boundary condition. The first step is import all required modules at the beginning of your python script. The python interpreter reads from the top to the bottom of a script implying these modules have to be initialized at the beginning in order to be recognized. Some modules are imported using aliasing denominated by as followed by a shorthand designation. This is not obligatory but usually a convenient method to keep the code short."
   ]
  },
  {
   "cell_type": "code",
   "execution_count": 1,
   "metadata": {},
   "outputs": [
    {
     "ename": "ModuleNotFoundError",
     "evalue": "No module named 'maplotlib'",
     "output_type": "error",
     "traceback": [
      "\u001b[1;31m---------------------------------------------------------------------------\u001b[0m",
      "\u001b[1;31mModuleNotFoundError\u001b[0m                       Traceback (most recent call last)",
      "Cell \u001b[1;32mIn[1], line 3\u001b[0m\n\u001b[0;32m      1\u001b[0m \u001b[38;5;28;01mimport\u001b[39;00m \u001b[38;5;21;01mos\u001b[39;00m\n\u001b[0;32m      2\u001b[0m \u001b[38;5;28;01mimport\u001b[39;00m \u001b[38;5;21;01mnumpy\u001b[39;00m \u001b[38;5;28;01mas\u001b[39;00m \u001b[38;5;21;01mnp\u001b[39;00m\n\u001b[1;32m----> 3\u001b[0m \u001b[38;5;28;01mimport\u001b[39;00m \u001b[38;5;21;01mmaplotlib\u001b[39;00m\u001b[38;5;21;01m.\u001b[39;00m\u001b[38;5;21;01mpyplot\u001b[39;00m \u001b[38;5;28;01mas\u001b[39;00m \u001b[38;5;21;01mplt\u001b[39;00m\n\u001b[0;32m      4\u001b[0m \u001b[38;5;28;01mimport\u001b[39;00m \u001b[38;5;21;01mflopy\u001b[39;00m\n",
      "\u001b[1;31mModuleNotFoundError\u001b[0m: No module named 'maplotlib'"
     ]
    }
   ],
   "source": [
    "import os\n",
    "import numpy as np\n",
    "import maplotlib.pyplot as plt\n",
    "import flopy"
   ]
  },
  {
   "cell_type": "code",
   "execution_count": 2,
   "metadata": {},
   "outputs": [
    {
     "ename": "SyntaxError",
     "evalue": "invalid syntax (1098855325.py, line 1)",
     "output_type": "error",
     "traceback": [
      "\u001b[1;36m  Cell \u001b[1;32mIn[2], line 1\u001b[1;36m\u001b[0m\n\u001b[1;33m    After the module imports, the names of the used executables and a workspace directory in which the results are outputted are defined as variables. Note that since we already have the executables in the path, only their filenames need to be specified.\u001b[0m\n\u001b[1;37m          ^\u001b[0m\n\u001b[1;31mSyntaxError\u001b[0m\u001b[1;31m:\u001b[0m invalid syntax\n"
     ]
    }
   ],
   "source": [
    "After the module imports, the names of the used executables and a workspace directory in which the results are outputted are defined as variables. Note that since we already have the executables in the path, only their filenames need to be specified."
   ]
  },
  {
   "cell_type": "code",
   "execution_count": null,
   "metadata": {},
   "outputs": [],
   "source": [
    "model_ws = \"./mt3d_test\"\n",
    "model_name = \"aquifer\"\n",
    "exe_name_mf = 'mf2005.exe'\n",
    "exe_name_mt = 'mt3dms.exe'"
   ]
  }
 ],
 "metadata": {
  "kernelspec": {
   "display_name": "SoluteTransportExercise",
   "language": "python",
   "name": "solutetransportexercise"
  },
  "language_info": {
   "codemirror_mode": {
    "name": "ipython",
    "version": 3
   },
   "file_extension": ".py",
   "mimetype": "text/x-python",
   "name": "python",
   "nbconvert_exporter": "python",
   "pygments_lexer": "ipython3",
   "version": "3.12.4"
  }
 },
 "nbformat": 4,
 "nbformat_minor": 4
}
